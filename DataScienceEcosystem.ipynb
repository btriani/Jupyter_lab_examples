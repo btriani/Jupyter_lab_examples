{
  "nbformat": 4,
  "nbformat_minor": 0,
  "metadata": {
    "colab": {
      "provenance": [],
      "authorship_tag": "ABX9TyP3dFDQoAeC0HrFQGWjUgkQ",
      "include_colab_link": true
    },
    "kernelspec": {
      "name": "python3",
      "display_name": "Python 3"
    },
    "language_info": {
      "name": "python"
    }
  },
  "cells": [
    {
      "cell_type": "markdown",
      "metadata": {
        "id": "view-in-github",
        "colab_type": "text"
      },
      "source": [
        "<a href=\"https://colab.research.google.com/github/btriani/lab/blob/main/DataScienceEcosystem.ipynb\" target=\"_parent\"><img src=\"https://colab.research.google.com/assets/colab-badge.svg\" alt=\"Open In Colab\"/></a>"
      ]
    },
    {
      "cell_type": "markdown",
      "source": [
        "# Data Science Tools and Ecosystem\n"
      ],
      "metadata": {
        "id": "TKIPCi0oRw6a"
      }
    },
    {
      "cell_type": "markdown",
      "source": [
        "In this notebook, Data Science Tools and Ecosystem are summarized."
      ],
      "metadata": {
        "id": "zlx3tP3ESZgY"
      }
    },
    {
      "cell_type": "markdown",
      "source": [
        "**Objectives:**\n",
        "\n",
        "\n",
        "1.   popular languages that Data Scientists\n",
        "2.   libraries used by Data Scientists\n",
        "1.   Data Science Tools"
      ],
      "metadata": {
        "id": "9dAPSmEAoDEr"
      }
    },
    {
      "cell_type": "markdown",
      "source": [
        "Some of the popular languages that Data Scientists use are:\n",
        "\n",
        "\n",
        "1.   R\n",
        "2.   Pynthon\n",
        "1.   SQL\n",
        "\n",
        "\n",
        "Some of the commonly used libraries used by Data Scientists include:\n",
        "\n",
        "1.   TensorFlow\n",
        "2.   Keras\n",
        "1.   PyTorch\n",
        "\n",
        "\n",
        "|  Data Science Tools |\n",
        "| --- |\n",
        "| Jupyter Notebook  |\n",
        "| RStudio           |\n",
        "| Spyder            |\n",
        "\n",
        "\n"
      ],
      "metadata": {
        "id": "BZGzNJJ5SbIu"
      }
    },
    {
      "cell_type": "markdown",
      "source": [
        "###Below are a few examples of evaluating arithmetic expressions in Python\n",
        "\n",
        "\n"
      ],
      "metadata": {
        "id": "kFpoy8f7S5oy"
      }
    },
    {
      "cell_type": "code",
      "source": [
        "result=(3*4)+5\n",
        "print(result)\n",
        "#This a simple arithmetic expression to mutiply then add integers."
      ],
      "metadata": {
        "colab": {
          "base_uri": "https://localhost:8080/"
        },
        "id": "BPLQfagHTJId",
        "outputId": "f5c5ca33-0d16-491a-c25f-4a91332b3f62"
      },
      "execution_count": 2,
      "outputs": [
        {
          "output_type": "stream",
          "name": "stdout",
          "text": [
            "17\n"
          ]
        }
      ]
    },
    {
      "cell_type": "code",
      "source": [
        "# This will convert 200 minutes to hours by diving by 60\n",
        "\n",
        "minutes = 200\n",
        "hours = minutes / 60\n",
        "print(hours)\n"
      ],
      "metadata": {
        "id": "1Pj8ktbynQIQ"
      },
      "execution_count": null,
      "outputs": []
    },
    {
      "cell_type": "markdown",
      "source": [
        "##Author\n",
        "Bruno"
      ],
      "metadata": {
        "id": "ALvZ5oY2nw6o"
      }
    }
  ]
}